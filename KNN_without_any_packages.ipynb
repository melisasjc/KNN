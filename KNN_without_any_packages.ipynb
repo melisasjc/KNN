{
 "cells": [
  {
   "cell_type": "markdown",
   "metadata": {},
   "source": [
    "## Problem Statement\n"
   ]
  },
  {
   "cell_type": "markdown",
   "metadata": {},
   "source": [
    "To predict the weight using KNN algorithm without the usage of any packages."
   ]
  },
  {
   "cell_type": "markdown",
   "metadata": {},
   "source": [
    "## Formulas used"
   ]
  },
  {
   "cell_type": "markdown",
   "metadata": {},
   "source": [
    "Euclidean distance formula-The distance two points (x1,y1) and (x2,y2) is given by the formula :\n",
    "[(x2-x1)2 +(y2-y1)2] 1/2"
   ]
  },
  {
   "cell_type": "markdown",
   "metadata": {},
   "source": [
    "## Algorithm\n"
   ]
  },
  {
   "cell_type": "markdown",
   "metadata": {},
   "source": [
    "Step1: Start\n",
    "\n",
    "Step 2: Load the train data\n",
    "\n",
    "Step 3:Load the test data\n",
    "\n",
    "Step 4:Assign k values\n",
    "\n",
    "Step 5:Assign target variable\n",
    "\n",
    "Step 6:Create the variable to store the predicted targeted values\n",
    "\n",
    "Step 7:Repeat through the steps:\n",
    "\n",
    "- Find the difference matrix\n",
    "\n",
    "- Compute the distance using Euclidean distance formula\n",
    "\n",
    "- Sort the train data in ascending order w.r.t the distances\n",
    "\n",
    "- Compute average of the first k terms of train dataset \n",
    "\n",
    "- Append to predicted targeted values.\n",
    "\n",
    "Step 8: Display the predicted targeted values\n",
    "\n",
    "Step 9: Stop"
   ]
  },
  {
   "cell_type": "markdown",
   "metadata": {},
   "source": [
    "## Code"
   ]
  },
  {
   "cell_type": "code",
   "execution_count": 2,
   "metadata": {},
   "outputs": [
    {
     "data": {
      "text/plain": [
       "'\\n@script-author:Melisa Dalmeida\\n@script-description:To predict the value using knn algorithm\\n@script-start date:08.01.20\\n@script-last updated:13.01.20\\n'"
      ]
     },
     "execution_count": 2,
     "metadata": {},
     "output_type": "execute_result"
    }
   ],
   "source": [
    " # -*- coding: utf-8 -*-\n",
    "\"\"\"\n",
    "@script-author:Melisa Dalmeida\n",
    "@script-description:To predict the value using knn algorithm\n",
    "@script-start date:08.01.20\n",
    "@script-last updated:13.01.20\n",
    "\"\"\""
   ]
  },
  {
   "cell_type": "code",
   "execution_count": 8,
   "metadata": {},
   "outputs": [
    {
     "data": {
      "text/plain": [
       "[4.5, 4.5]"
      ]
     },
     "execution_count": 8,
     "metadata": {},
     "output_type": "execute_result"
    }
   ],
   "source": [
    "train=[[1,2,3],[4,5,6],[7,8,9]]\n",
    "test = [[1,2], [2,4]]\n",
    "avg=[]\n",
    "for a in range(len(test)):\n",
    "    test1=[]\n",
    "    k=2\n",
    "    sum=0\n",
    "    diff=[]\n",
    "    test1.append(test[a])\n",
    "    d=[]\n",
    "    for row in train:\n",
    "        d.append(row[:-1])\n",
    "    for i in range (len(d)):\n",
    "        for j in range(len(test1[0])):\n",
    "            diff1=(train[i][j]-test1[0][j])**2\n",
    "            sum=sum+diff1\n",
    "        sqr=sum**0.5\n",
    "        diff.append([sqr,train[i][2]])\n",
    "    diff.sort\n",
    "    sum=0\n",
    "    for i in range(0,k):\n",
    "        for j in range(1):\n",
    "            sum=sum+diff[i][1] \n",
    "    avg1=sum/k\n",
    "    avg.append(avg1)\n",
    "avg"
   ]
  },
  {
   "cell_type": "code",
   "execution_count": null,
   "metadata": {},
   "outputs": [],
   "source": []
  }
 ],
 "metadata": {
  "kernelspec": {
   "display_name": "Python 3.6.10 64-bit ('melisa': conda)",
   "language": "python",
   "name": "python361064bitmelisaconda092d26402d524f0b8a13af22a18c9cf8"
  },
  "language_info": {
   "codemirror_mode": {
    "name": "ipython",
    "version": 3
   },
   "file_extension": ".py",
   "mimetype": "text/x-python",
   "name": "python",
   "nbconvert_exporter": "python",
   "pygments_lexer": "ipython3",
   "version": "3.6.10"
  }
 },
 "nbformat": 4,
 "nbformat_minor": 2
}
